{
 "cells": [
  {
   "cell_type": "code",
   "execution_count": 283,
   "metadata": {},
   "outputs": [],
   "source": [
    "import numpy as np\n",
    "from PIL import Image, ImageDraw, ImageFont\n",
    "from skimage import transform as tf"
   ]
  },
  {
   "cell_type": "code",
   "execution_count": 284,
   "metadata": {},
   "outputs": [],
   "source": [
    "def create_captcha(text, shear=0, size=(100, 26)):\n",
    "    im = Image.new(\"L\", size, \"black\")\n",
    "    draw = ImageDraw.Draw(im)\n",
    "    font = ImageFont.truetype(r\"Sports World-Regular.otf\", 18)\n",
    "    text = \" \".join(text)\n",
    "    draw.text((2,2), text, fill=1,font=font)\n",
    "    image = np.array(im)\n",
    "    affine_tn = tf.AffineTransform(shear=shear)\n",
    "    image = tf.warp(image, affine_tn)\n",
    "    return image / image.max()"
   ]
  },
  {
   "cell_type": "code",
   "execution_count": 285,
   "metadata": {},
   "outputs": [
    {
     "data": {
      "text/plain": [
       "<matplotlib.image.AxesImage at 0xa0c2080>"
      ]
     },
     "execution_count": 285,
     "metadata": {},
     "output_type": "execute_result"
    },
    {
     "data": {
      "image/png": "[encoded data removed]",
      "text/plain": [
       "<matplotlib.figure.Figure at 0xe43c240>"
      ]
     },
     "metadata": {},
     "output_type": "display_data"
    }
   ],
   "source": [
    "import matplotlib.pyplot as plt\n",
    "%matplotlib inline\n",
    "image = create_captcha(\"ABC\", shear=0.4)\n",
    "plt.imshow(image, cmap='Greys')"
   ]
  },
  {
   "cell_type": "code",
   "execution_count": 286,
   "metadata": {
    "collapsed": true
   },
   "outputs": [],
   "source": [
    "from skimage.measure import label, regionprops\n",
    "def segment_image(image):\n",
    "    labeled_image = label(image > 0)\n",
    "    subimages = []\n",
    "    for region in regionprops(labeled_image):\n",
    "        start_x, start_y, end_x, end_y = region.bbox\n",
    "        subimages.append(image[start_x:end_x, start_y:end_y])\n",
    "    if(len(subimages) == 0):\n",
    "        return [image,]\n",
    "    return subimages"
   ]
  },
  {
   "cell_type": "code",
   "execution_count": 287,
   "metadata": {},
   "outputs": [
    {
     "data": {
      "image/png": "[encoded data removed]",
      "text/plain": [
       "<matplotlib.figure.Figure at 0xe4be0f0>"
      ]
     },
     "metadata": {},
     "output_type": "display_data"
    }
   ],
   "source": [
    "subimages = segment_image(image)\n",
    "f, axes = plt.subplots(1, len(subimages), figsize=(10, 3))\n",
    "#print(len(subimages))\n",
    "for i in range(len(subimages)):\n",
    "    axes[i].imshow(subimages[i], cmap='gray')"
   ]
  },
  {
   "cell_type": "code",
   "execution_count": 288,
   "metadata": {
    "collapsed": true
   },
   "outputs": [],
   "source": [
    "from sklearn.utils import check_random_state\n",
    "random_state = check_random_state(14)\n",
    "letters = list(\"ABCDEFGHIJKLMNOPQRSTUVWXYZ\")\n",
    "shear_values = np.arange(0, 0.5, 0.05)"
   ]
  },
  {
   "cell_type": "code",
   "execution_count": 289,
   "metadata": {
    "collapsed": true
   },
   "outputs": [],
   "source": [
    "def generate_sample(random_state=None):\n",
    "    random_state = check_random_state(random_state)\n",
    "    letter = random_state.choice(letters)\n",
    "    shear = random_state.choice(shear_values)\n",
    "    return create_captcha(letter, shear=shear, size=(20,20)), letters.index(letter)"
   ]
  },
  {
   "cell_type": "code",
   "execution_count": 290,
   "metadata": {},
   "outputs": [
    {
     "name": "stdout",
     "output_type": "stream",
     "text": [
      "The target for this image is: 11\n"
     ]
    },
    {
     "data": {
      "image/png": "[encoded data removed]",
      "text/plain": [
       "<matplotlib.figure.Figure at 0x539a400>"
      ]
     },
     "metadata": {},
     "output_type": "display_data"
    }
   ],
   "source": [
    "image, target = generate_sample(random_state)\n",
    "plt.imshow(image, cmap='Greys')\n",
    "print(\"The target for this image is: {0}\".format(target))"
   ]
  },
  {
   "cell_type": "code",
   "execution_count": 291,
   "metadata": {
    "collapsed": true
   },
   "outputs": [],
   "source": [
    "dataset, target = zip(*(generate_sample(random_state) for i in range(3000)))\n",
    "dataset = np.array(dataset, dtype='float')\n",
    "target = np.array(target)\n",
    "from sklearn.preprocessing import OneHotEncoder\n",
    "onehot = OneHotEncoder()\n",
    "y = onehot.fit_transform(target.reshape(target.shape[0],1))\n",
    "y = y.todense()"
   ]
  },
  {
   "cell_type": "code",
   "execution_count": 292,
   "metadata": {},
   "outputs": [],
   "source": [
    "from skimage.transform import resize\n",
    "dataset = np.array([resize(segment_image(sample)[0], (20,20)) for sample in dataset])\n",
    "X = dataset.reshape((dataset.shape[0], dataset.shape[1] * dataset.shape[2]))"
   ]
  },
  {
   "cell_type": "code",
   "execution_count": 293,
   "metadata": {},
   "outputs": [],
   "source": [
    "from sklearn.cross_validation import train_test_split\n",
    "X_train, X_test, y_train, y_test = train_test_split(X, y, train_size=0.9)"
   ]
  },
  {
   "cell_type": "code",
   "execution_count": 294,
   "metadata": {
    "collapsed": true
   },
   "outputs": [],
   "source": [
    "from pybrain.datasets import SupervisedDataSet"
   ]
  },
  {
   "cell_type": "code",
   "execution_count": 295,
   "metadata": {},
   "outputs": [],
   "source": [
    "training = SupervisedDataSet(X.shape[1], y.shape[1])\n",
    "for i in range(X_train.shape[0]):\n",
    "    training.addSample(X_train[i], y_train[i])\n",
    "testing = SupervisedDataSet(X.shape[1], y.shape[1])\n",
    "for i in range(X_test.shape[0]):\n",
    "    testing.addSample(X_test[i], y_test[i])"
   ]
  },
  {
   "cell_type": "code",
   "execution_count": 296,
   "metadata": {
    "collapsed": true
   },
   "outputs": [],
   "source": [
    "from pybrain.tools.shortcuts import buildNetwork\n",
    "net = buildNetwork(X.shape[1], 100, y.shape[1], bias=True)"
   ]
  },
  {
   "cell_type": "code",
   "execution_count": 297,
   "metadata": {},
   "outputs": [],
   "source": [
    "from pybrain.supervised.trainers import BackpropTrainer\n",
    "trainer = BackpropTrainer(net, training, learningrate=0.01, weightdecay=0.01)\n",
    "trainer.trainEpochs(epochs=55)"
   ]
  },
  {
   "cell_type": "code",
   "execution_count": 310,
   "metadata": {},
   "outputs": [],
   "source": [
    "predictions = trainer.testOnClassData(dataset=testing)"
   ]
  },
  {
   "cell_type": "code",
   "execution_count": 311,
   "metadata": {},
   "outputs": [
    {
     "name": "stdout",
     "output_type": "stream",
     "text": [
      "F1 Score: 0.98\n"
     ]
    }
   ],
   "source": [
    "from sklearn.metrics import f1_score\n",
    "print(\"F1 Score: {0:.2f}\".format(f1_score(predictions, y_test.argmax(axis=1),  average='weighted' )))"
   ]
  },
  {
   "cell_type": "code",
   "execution_count": 312,
   "metadata": {
    "collapsed": true
   },
   "outputs": [],
   "source": [
    "def predict_captcha(captcha_image, neural_network):\n",
    "    subimages = segment_image(captcha_image)\n",
    "    predicted_word = \"\"\n",
    "    for subimage in subimages:\n",
    "        subimage = resize(subimage, (20, 20))\n",
    "        outputs = neural_network.activate(subimage.flatten())\n",
    "        prediction = np.argmax(outputs)\n",
    "        predicted_word += letters[prediction]\n",
    "    return predicted_word"
   ]
  },
  {
   "cell_type": "code",
   "execution_count": 313,
   "metadata": {},
   "outputs": [
    {
     "name": "stdout",
     "output_type": "stream",
     "text": [
      "GENE\n"
     ]
    }
   ],
   "source": [
    "word = \"GENE\"\n",
    "captcha = create_captcha(word, shear=0.3)\n",
    "print(predict_captcha(captcha, net))"
   ]
  },
  {
   "cell_type": "code",
   "execution_count": 314,
   "metadata": {
    "collapsed": true
   },
   "outputs": [],
   "source": [
    "def test_prediction(word, net, shear=0.2):\n",
    "    captcha = create_captcha(word, shear=shear)\n",
    "    prediction = predict_captcha(captcha, net)\n",
    "    prediction = prediction[:4]\n",
    "    return word == prediction, word, prediction"
   ]
  },
  {
   "cell_type": "code",
   "execution_count": 315,
   "metadata": {
    "collapsed": true
   },
   "outputs": [],
   "source": [
    "from nltk.corpus import words\n"
   ]
  },
  {
   "cell_type": "code",
   "execution_count": 316,
   "metadata": {},
   "outputs": [
    {
     "name": "stdout",
     "output_type": "stream",
     "text": [
      "Number correct is 5054\n",
      "Number incorrect is 459\n"
     ]
    }
   ],
   "source": [
    "valid_words = [word.upper() for word in words.words() if len(word) == 4]\n",
    "#print(valid_words)\n",
    "num_correct = 0\n",
    "w = []\n",
    "a = []\n",
    "num_incorrect = 0\n",
    "for word in valid_words:\n",
    "    correct, word_, prediction = test_prediction(word,net, shear=0.2)\n",
    "    if correct:\n",
    "        num_correct += 1\n",
    "    else:\n",
    "        num_incorrect += 1\n",
    "# print(a)\n",
    "# print(w)\n",
    "print(\"Number correct is {0}\".format(num_correct))\n",
    "print(\"Number incorrect is {0}\".format(num_incorrect))"
   ]
  },
  {
   "cell_type": "code",
   "execution_count": 337,
   "metadata": {},
   "outputs": [
    {
     "data": {
      "text/plain": [
       "[13,\n",
       " 8,\n",
       " 13,\n",
       " 1,\n",
       " 1,\n",
       " 1,\n",
       " 25,\n",
       " 7,\n",
       " 11,\n",
       " 7,\n",
       " 14,\n",
       " 14,\n",
       " 23,\n",
       " 18,\n",
       " 19,\n",
       " 6,\n",
       " 13,\n",
       " 5,\n",
       " 3,\n",
       " 10,\n",
       " 0,\n",
       " 6,\n",
       " 18,\n",
       " 20,\n",
       " 15,\n",
       " 12,\n",
       " 23,\n",
       " 23,\n",
       " 25,\n",
       " 9,\n",
       " 8,\n",
       " 17,\n",
       " 0,\n",
       " 3,\n",
       " 13,\n",
       " 13,\n",
       " 8,\n",
       " 8,\n",
       " 11,\n",
       " 14,\n",
       " 5,\n",
       " 15,\n",
       " 17,\n",
       " 15,\n",
       " 13,\n",
       " 7,\n",
       " 25,\n",
       " 2,\n",
       " 6,\n",
       " 22,\n",
       " 16,\n",
       " 11,\n",
       " 11,\n",
       " 13,\n",
       " 14,\n",
       " 9,\n",
       " 22,\n",
       " 16,\n",
       " 15,\n",
       " 1,\n",
       " 6,\n",
       " 0,\n",
       " 17,\n",
       " 20,\n",
       " 19,\n",
       " 21,\n",
       " 21,\n",
       " 7,\n",
       " 7,\n",
       " 5,\n",
       " 0,\n",
       " 3,\n",
       " 2,\n",
       " 5,\n",
       " 13,\n",
       " 18,\n",
       " 11,\n",
       " 17,\n",
       " 14,\n",
       " 5,\n",
       " 23,\n",
       " 1,\n",
       " 22,\n",
       " 10,\n",
       " 15,\n",
       " 18,\n",
       " 5,\n",
       " 25,\n",
       " 0,\n",
       " 8,\n",
       " 6,\n",
       " 10,\n",
       " 10,\n",
       " 5,\n",
       " 12,\n",
       " 10,\n",
       " 6,\n",
       " 11,\n",
       " 11,\n",
       " 1,\n",
       " 16,\n",
       " 12,\n",
       " 18,\n",
       " 6,\n",
       " 18,\n",
       " 19,\n",
       " 14,\n",
       " 23,\n",
       " 4,\n",
       " 14,\n",
       " 19,\n",
       " 22,\n",
       " 13,\n",
       " 13,\n",
       " 20,\n",
       " 2,\n",
       " 16,\n",
       " 6,\n",
       " 7,\n",
       " 8,\n",
       " 16,\n",
       " 0,\n",
       " 13,\n",
       " 2,\n",
       " 24,\n",
       " 7,\n",
       " 9,\n",
       " 23,\n",
       " 3,\n",
       " 2,\n",
       " 24,\n",
       " 13,\n",
       " 25,\n",
       " 20,\n",
       " 7,\n",
       " 15,\n",
       " 6,\n",
       " 3,\n",
       " 5,\n",
       " 4,\n",
       " 8,\n",
       " 12,\n",
       " 23,\n",
       " 1,\n",
       " 16,\n",
       " 14,\n",
       " 0,\n",
       " 21,\n",
       " 10,\n",
       " 9,\n",
       " 3,\n",
       " 2,\n",
       " 11,\n",
       " 22,\n",
       " 7,\n",
       " 2,\n",
       " 12,\n",
       " 18,\n",
       " 8,\n",
       " 17,\n",
       " 23,\n",
       " 3,\n",
       " 24,\n",
       " 7,\n",
       " 6,\n",
       " 9,\n",
       " 23,\n",
       " 13,\n",
       " 15,\n",
       " 4,\n",
       " 16,\n",
       " 12,\n",
       " 16,\n",
       " 18,\n",
       " 6,\n",
       " 7,\n",
       " 7,\n",
       " 8,\n",
       " 4,\n",
       " 21,\n",
       " 13,\n",
       " 5,\n",
       " 12,\n",
       " 5,\n",
       " 11,\n",
       " 16,\n",
       " 25,\n",
       " 7,\n",
       " 14,\n",
       " 16,\n",
       " 14,\n",
       " 16,\n",
       " 18,\n",
       " 24,\n",
       " 9,\n",
       " 12,\n",
       " 11,\n",
       " 7,\n",
       " 9,\n",
       " 5,\n",
       " 13,\n",
       " 17,\n",
       " 16,\n",
       " 0,\n",
       " 25,\n",
       " 13,\n",
       " 17,\n",
       " 9,\n",
       " 3,\n",
       " 24,\n",
       " 17,\n",
       " 11,\n",
       " 16,\n",
       " 19,\n",
       " 9,\n",
       " 21,\n",
       " 0,\n",
       " 5,\n",
       " 1,\n",
       " 17,\n",
       " 12,\n",
       " 17,\n",
       " 2,\n",
       " 17,\n",
       " 23,\n",
       " 5,\n",
       " 8,\n",
       " 10,\n",
       " 11,\n",
       " 25,\n",
       " 7,\n",
       " 21,\n",
       " 23,\n",
       " 2,\n",
       " 3,\n",
       " 6,\n",
       " 12,\n",
       " 14,\n",
       " 22,\n",
       " 17,\n",
       " 6,\n",
       " 11,\n",
       " 3,\n",
       " 6,\n",
       " 15,\n",
       " 1,\n",
       " 24,\n",
       " 20,\n",
       " 23,\n",
       " 25,\n",
       " 8,\n",
       " 2,\n",
       " 3,\n",
       " 19,\n",
       " 23,\n",
       " 14,\n",
       " 11,\n",
       " 8,\n",
       " 13,\n",
       " 11,\n",
       " 11,\n",
       " 2,\n",
       " 3,\n",
       " 1,\n",
       " 8,\n",
       " 18,\n",
       " 11,\n",
       " 24,\n",
       " 20,\n",
       " 7,\n",
       " 2,\n",
       " 23,\n",
       " 0,\n",
       " 16,\n",
       " 5,\n",
       " 11,\n",
       " 14,\n",
       " 1,\n",
       " 23,\n",
       " 5,\n",
       " 24,\n",
       " 15,\n",
       " 19,\n",
       " 19,\n",
       " 11,\n",
       " 16,\n",
       " 2,\n",
       " 3,\n",
       " 12,\n",
       " 13,\n",
       " 3,\n",
       " 5,\n",
       " 5,\n",
       " 4,\n",
       " 1,\n",
       " 22,\n",
       " 22,\n",
       " 18,\n",
       " 4,\n",
       " 0]"
      ]
     },
     "execution_count": 337,
     "metadata": {},
     "output_type": "execute_result"
    }
   ],
   "source": [
    "c = (np.argmax(y_test, axis=1))\n",
    "predictions"
   ]
  },
  {
   "cell_type": "code",
   "execution_count": 336,
   "metadata": {},
   "outputs": [
    {
     "data": {
      "text/plain": [
       "[13,\n",
       " 8,\n",
       " 8,\n",
       " 1,\n",
       " 1,\n",
       " 1,\n",
       " 25,\n",
       " 7,\n",
       " 11,\n",
       " 7,\n",
       " 14,\n",
       " 14,\n",
       " 23,\n",
       " 18,\n",
       " 19,\n",
       " 6,\n",
       " 13,\n",
       " 5,\n",
       " 3,\n",
       " 10,\n",
       " 0,\n",
       " 6,\n",
       " 18,\n",
       " 20,\n",
       " 15,\n",
       " 12,\n",
       " 23,\n",
       " 23,\n",
       " 25,\n",
       " 9,\n",
       " 8,\n",
       " 17,\n",
       " 0,\n",
       " 3,\n",
       " 13,\n",
       " 13,\n",
       " 8,\n",
       " 8,\n",
       " 11,\n",
       " 14,\n",
       " 5,\n",
       " 15,\n",
       " 17,\n",
       " 15,\n",
       " 13,\n",
       " 7,\n",
       " 25,\n",
       " 2,\n",
       " 6,\n",
       " 22,\n",
       " 16,\n",
       " 11,\n",
       " 11,\n",
       " 13,\n",
       " 14,\n",
       " 9,\n",
       " 22,\n",
       " 16,\n",
       " 15,\n",
       " 1,\n",
       " 6,\n",
       " 0,\n",
       " 17,\n",
       " 20,\n",
       " 19,\n",
       " 21,\n",
       " 21,\n",
       " 7,\n",
       " 7,\n",
       " 5,\n",
       " 0,\n",
       " 3,\n",
       " 2,\n",
       " 5,\n",
       " 13,\n",
       " 18,\n",
       " 11,\n",
       " 17,\n",
       " 14,\n",
       " 5,\n",
       " 23,\n",
       " 1,\n",
       " 22,\n",
       " 10,\n",
       " 15,\n",
       " 18,\n",
       " 5,\n",
       " 25,\n",
       " 0,\n",
       " 8,\n",
       " 6,\n",
       " 10,\n",
       " 10,\n",
       " 5,\n",
       " 12,\n",
       " 10,\n",
       " 6,\n",
       " 11,\n",
       " 11,\n",
       " 1,\n",
       " 16,\n",
       " 12,\n",
       " 18,\n",
       " 6,\n",
       " 18,\n",
       " 19,\n",
       " 14,\n",
       " 23,\n",
       " 4,\n",
       " 14,\n",
       " 19,\n",
       " 22,\n",
       " 8,\n",
       " 13,\n",
       " 20,\n",
       " 2,\n",
       " 16,\n",
       " 6,\n",
       " 7,\n",
       " 8,\n",
       " 16,\n",
       " 0,\n",
       " 13,\n",
       " 2,\n",
       " 24,\n",
       " 7,\n",
       " 9,\n",
       " 23,\n",
       " 3,\n",
       " 2,\n",
       " 24,\n",
       " 8,\n",
       " 25,\n",
       " 20,\n",
       " 7,\n",
       " 15,\n",
       " 6,\n",
       " 3,\n",
       " 4,\n",
       " 4,\n",
       " 8,\n",
       " 12,\n",
       " 23,\n",
       " 1,\n",
       " 16,\n",
       " 14,\n",
       " 0,\n",
       " 21,\n",
       " 10,\n",
       " 9,\n",
       " 3,\n",
       " 2,\n",
       " 11,\n",
       " 22,\n",
       " 7,\n",
       " 2,\n",
       " 12,\n",
       " 18,\n",
       " 8,\n",
       " 17,\n",
       " 23,\n",
       " 3,\n",
       " 24,\n",
       " 7,\n",
       " 6,\n",
       " 9,\n",
       " 23,\n",
       " 13,\n",
       " 15,\n",
       " 4,\n",
       " 16,\n",
       " 12,\n",
       " 16,\n",
       " 18,\n",
       " 6,\n",
       " 7,\n",
       " 20,\n",
       " 8,\n",
       " 4,\n",
       " 21,\n",
       " 13,\n",
       " 5,\n",
       " 12,\n",
       " 5,\n",
       " 11,\n",
       " 16,\n",
       " 25,\n",
       " 20,\n",
       " 14,\n",
       " 16,\n",
       " 14,\n",
       " 16,\n",
       " 18,\n",
       " 24,\n",
       " 9,\n",
       " 12,\n",
       " 11,\n",
       " 7,\n",
       " 9,\n",
       " 5,\n",
       " 8,\n",
       " 17,\n",
       " 16,\n",
       " 0,\n",
       " 25,\n",
       " 13,\n",
       " 17,\n",
       " 9,\n",
       " 3,\n",
       " 24,\n",
       " 17,\n",
       " 11,\n",
       " 16,\n",
       " 19,\n",
       " 9,\n",
       " 21,\n",
       " 0,\n",
       " 5,\n",
       " 1,\n",
       " 17,\n",
       " 12,\n",
       " 17,\n",
       " 2,\n",
       " 17,\n",
       " 23,\n",
       " 5,\n",
       " 8,\n",
       " 10,\n",
       " 11,\n",
       " 25,\n",
       " 7,\n",
       " 21,\n",
       " 23,\n",
       " 2,\n",
       " 3,\n",
       " 6,\n",
       " 12,\n",
       " 14,\n",
       " 22,\n",
       " 17,\n",
       " 6,\n",
       " 11,\n",
       " 3,\n",
       " 6,\n",
       " 15,\n",
       " 1,\n",
       " 24,\n",
       " 20,\n",
       " 23,\n",
       " 25,\n",
       " 8,\n",
       " 2,\n",
       " 3,\n",
       " 19,\n",
       " 23,\n",
       " 14,\n",
       " 11,\n",
       " 8,\n",
       " 13,\n",
       " 11,\n",
       " 11,\n",
       " 2,\n",
       " 3,\n",
       " 1,\n",
       " 8,\n",
       " 18,\n",
       " 11,\n",
       " 24,\n",
       " 20,\n",
       " 7,\n",
       " 2,\n",
       " 23,\n",
       " 0,\n",
       " 16,\n",
       " 5,\n",
       " 11,\n",
       " 14,\n",
       " 1,\n",
       " 23,\n",
       " 5,\n",
       " 24,\n",
       " 15,\n",
       " 19,\n",
       " 19,\n",
       " 11,\n",
       " 16,\n",
       " 2,\n",
       " 3,\n",
       " 12,\n",
       " 13,\n",
       " 3,\n",
       " 5,\n",
       " 5,\n",
       " 4,\n",
       " 1,\n",
       " 22,\n",
       " 22,\n",
       " 18,\n",
       " 4,\n",
       " 0]"
      ]
     },
     "execution_count": 336,
     "metadata": {},
     "output_type": "execute_result"
    }
   ],
   "source": [
    "y_final = []\n",
    "c = np.asarray(c)\n",
    "for i in c:\n",
    "    y_final.append(i[0])\n",
    "y_final"
   ]
  },
  {
   "cell_type": "code",
   "execution_count": 338,
   "metadata": {
    "collapsed": true
   },
   "outputs": [],
   "source": [
    "from sklearn.metrics import confusion_matrix\n",
    "cm = confusion_matrix(y_final, predictions)"
   ]
  },
  {
   "cell_type": "code",
   "execution_count": 339,
   "metadata": {},
   "outputs": [
    {
     "data": {
      "image/png": "[encoded data removed]",
      "text/plain": [
       "<matplotlib.figure.Figure at 0xe40af98>"
      ]
     },
     "metadata": {},
     "output_type": "display_data"
    }
   ],
   "source": [
    "plt.figure(figsize=(10, 10))\n",
    "plt.imshow(cm)\n",
    "marking = np.arange(len(letters))\n",
    "plt.xticks(marking, letters)\n",
    "plt.yticks(marking, letters)\n",
    "plt.ylabel('Actual')\n",
    "plt.xlabel('Predicted')\n",
    "plt.show()"
   ]
  },
  {
   "cell_type": "code",
   "execution_count": 340,
   "metadata": {},
   "outputs": [
    {
     "name": "stdout",
     "output_type": "stream",
     "text": [
      "The Number of steps required: 1\n"
     ]
    }
   ],
   "source": [
    "from nltk.metrics import edit_distance\n",
    "steps = edit_distance(\"STEP\", \"STOP\")\n",
    "print(\"The Number of steps required: {0}\".format(steps))"
   ]
  },
  {
   "cell_type": "code",
   "execution_count": 341,
   "metadata": {
    "collapsed": true
   },
   "outputs": [],
   "source": [
    "def compute_distance(prediction, word):\n",
    "     return len(prediction) - sum(prediction[i] == word[i] for i in range(len(prediction)))"
   ]
  },
  {
   "cell_type": "code",
   "execution_count": 347,
   "metadata": {
    "collapsed": true
   },
   "outputs": [],
   "source": [
    "from operator import itemgetter\n",
    "def improved_prediction(word, net, dictionary, shear=0.2):\n",
    "    captcha = create_captcha(word, shear=shear)\n",
    "    prediction = predict_captcha(captcha, net)\n",
    "    prediction = prediction[:4]\n",
    "    if prediction not in dictionary:\n",
    "        distances = sorted([(word, compute_distance(prediction, word)) for word in dictionary], key=itemgetter(1))\n",
    "        best_word = distances[0]\n",
    "        prediction = best_word[0]\n",
    "    return word == prediction, word, prediction"
   ]
  },
  {
   "cell_type": "code",
   "execution_count": 348,
   "metadata": {},
   "outputs": [
    {
     "name": "stdout",
     "output_type": "stream",
     "text": [
      "Number correct is 5062\n",
      "Number incorrect is 451\n"
     ]
    }
   ],
   "source": [
    "num_correct = 0\n",
    "w = []\n",
    "a = []\n",
    "num_incorrect = 0\n",
    "#print(valid_words)\n",
    "for word in valid_words:\n",
    "    correct, word_, prediction = improved_prediction(word, net, valid_words, shear=0.2)\n",
    "    if correct:\n",
    "        num_correct += 1\n",
    "    else:\n",
    "        num_incorrect += 1\n",
    "# print(a)\n",
    "# print(w)\n",
    "print(\"Number correct is {0}\".format(num_correct))\n",
    "print(\"Number incorrect is {0}\".format(num_incorrect))"
   ]
  },
  {
   "cell_type": "code",
   "execution_count": null,
   "metadata": {
    "collapsed": true
   },
   "outputs": [],
   "source": []
  }
 ],
 "metadata": {
  "kernelspec": {
   "display_name": "Python 3",
   "language": "python",
   "name": "python3"
  },
  "language_info": {
   "codemirror_mode": {
    "name": "ipython",
    "version": 3
   },
   "file_extension": ".py",
   "mimetype": "text/x-python",
   "name": "python",
   "nbconvert_exporter": "python",
   "pygments_lexer": "ipython3",
   "version": "3.4.5"
  }
 },
 "nbformat": 4,
 "nbformat_minor": 2
}
